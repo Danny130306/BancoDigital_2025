{
 "cells": [
  {
   "cell_type": "markdown",
   "id": "6d20ae2c",
   "metadata": {},
   "source": [
    "# CREANDO CARPETAS AUTOMATICAMENTE CON LIBRERÍAS"
   ]
  },
  {
   "cell_type": "markdown",
   "id": "87094c67",
   "metadata": {},
   "source": [
    "# Librerías necesarias\n",
    "Usarás librerías nativas del sistema operativo:\n",
    "• os → para manejar rutas, crear carpetas, listar archivos, etc.\n",
    "• pathlib → más moderna, limpia y recomendada para proyectos nuevos (parte de la librería estándar también)."
   ]
  },
  {
   "cell_type": "markdown",
   "id": "994faab0",
   "metadata": {},
   "source": [
    "## 􍫙􍫚 Crear carpeta “data” automáticamente"
   ]
  },
  {
   "cell_type": "code",
   "execution_count": null,
   "id": "47a95820",
   "metadata": {},
   "outputs": [
    {
     "name": "stdout",
     "output_type": "stream",
     "text": [
      "Carpeta creada en: c:\\Users\\sdfhe\\documents\\BancoDigital_2025\\scripts\\../data\n"
     ]
    }
   ],
   "source": [
    "## ✅ Opción 1: usando os\n",
    "import os\n",
    "\n",
    "# Ruta de la carpeta \"data\" dentro del proyecto actual\n",
    "ruta_carpeta = os.path.join(os.getcwd(), \"../data\")\n",
    "\n",
    "# Crear carpeta si no existe\n",
    "if not os.path.exists(ruta_carpeta):\n",
    "    os.makedirs(ruta_carpeta)\n",
    "    print(f\"Carpeta creada en: {ruta_carpeta}\")\n",
    "else:\n",
    "    print(\"La carpeta 'data' ya existe.\")"
   ]
  },
  {
   "cell_type": "code",
   "execution_count": 2,
   "id": "6953e39d",
   "metadata": {},
   "outputs": [
    {
     "name": "stdout",
     "output_type": "stream",
     "text": [
      "Carpeta creada en: c:\\Users\\sdfhe\\documents\\BancoDigital_2025\\scripts\\..\\database\n"
     ]
    }
   ],
   "source": [
    "# ✅ Opción 2: usando pathlib (más moderno y elegante)\n",
    "\n",
    "from pathlib import Path\n",
    "\n",
    "# Definir la ruta de la carpeta \"data\"\n",
    "ruta_carpeta = Path.cwd() / \"../database\"\n",
    "\n",
    "# Crear la carpeta si no existe\n",
    "ruta_carpeta.mkdir(parents=True, exist_ok=True)\n",
    "print(f\"Carpeta creada en: {ruta_carpeta}\")"
   ]
  },
  {
   "cell_type": "code",
   "execution_count": 3,
   "id": "ff68ed90",
   "metadata": {},
   "outputs": [
    {
     "name": "stdout",
     "output_type": "stream",
     "text": [
      "✅ Carpeta 'data' lista en c:\\Users\\sdfhe\\documents\\BancoDigital_2025\\scripts\\..\\data\n",
      "✅ Carpeta 'database' lista en c:\\Users\\sdfhe\\documents\\BancoDigital_2025\\scripts\\..\\database\n",
      "✅ Carpeta 'scripts' lista en c:\\Users\\sdfhe\\documents\\BancoDigital_2025\\scripts\\..\\scripts\n",
      "✅ Carpeta 'docs' lista en c:\\Users\\sdfhe\\documents\\BancoDigital_2025\\scripts\\..\\docs\n"
     ]
    }
   ],
   "source": [
    "# Crear otras carpetas en la misma ejecución\n",
    "\n",
    "from pathlib import Path\n",
    "\n",
    "# Rutas de carpetas del proyecto\n",
    "carpetas = [\"data\", \"database\", \"scripts\", \"docs\"]\n",
    "for carpeta in carpetas:\n",
    "    ruta = Path.cwd() / f\"../{carpeta}\"\n",
    "    ruta.mkdir(parents=True, exist_ok=True)\n",
    "    print(f\"✅ Carpeta '{carpeta}' lista en {ruta}\")"
   ]
  }
 ],
 "metadata": {
  "kernelspec": {
   "display_name": "myenv",
   "language": "python",
   "name": "python3"
  },
  "language_info": {
   "codemirror_mode": {
    "name": "ipython",
    "version": 3
   },
   "file_extension": ".py",
   "mimetype": "text/x-python",
   "name": "python",
   "nbconvert_exporter": "python",
   "pygments_lexer": "ipython3",
   "version": "3.10.0"
  }
 },
 "nbformat": 4,
 "nbformat_minor": 5
}
